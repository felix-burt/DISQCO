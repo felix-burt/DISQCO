{
 "cells": [
  {
   "cell_type": "code",
   "execution_count": 268,
   "metadata": {},
   "outputs": [
    {
     "name": "stdout",
     "output_type": "stream",
     "text": [
      "[0, 0, 0, 0, 0, 1, 1, 1, 1, 1, 2, 2, 2, 2, 2]\n",
      "[0, 0, 0, 0, 0, 1, 1, 1, 1, 1, 2, 2, 2]\n",
      "[2 1 0 0 0 1 2 1 1 1 2 2 2]\n",
      "[0, 0, 2]\n",
      "[2, 0, 0]\n"
     ]
    }
   ],
   "source": [
    "num_qubits = 13\n",
    "qpu_sizes = [5,5,5]\n",
    "\n",
    "\n",
    "assignment = []\n",
    "\n",
    "for qpu in range(len(qpu_sizes)):\n",
    "    for q in range(qpu_sizes[qpu]):\n",
    "        assignment.append(qpu)\n",
    "\n",
    "print(assignment)\n",
    "\n",
    "\n",
    "assignment1 = assignment[0:num_qubits]\n",
    "\n",
    "print(assignment1)\n",
    "\n",
    "import numpy as np\n",
    "\n",
    "\n",
    "\n",
    "# assignment2 = np.random.permutation(assignment)[:num_qubits].tolist()\n",
    "\n",
    "\n",
    "assignment2 = np.array(assignment1).copy()\n",
    "\n",
    "assignment2[0] = 2\n",
    "\n",
    "assignment2[6] = 2\n",
    "\n",
    "assignment2[1] = 1\n",
    "\n",
    "print(assignment2)\n",
    "\n",
    "\n",
    "def space_count(assignment, qpu_sizes):\n",
    "    return [qpu_sizes[p] - len(list(filter(lambda x: x == p, assignment))) for p in range(len(qpu_sizes))]\n",
    "\n",
    "\n",
    "space_count1 = space_count(assignment1, qpu_sizes)\n",
    "space_count2 = space_count(assignment2, qpu_sizes)\n",
    "\n",
    "print(space_count1)\n",
    "print(space_count2)\n",
    "\n",
    "\n"
   ]
  },
  {
   "cell_type": "code",
   "execution_count": 269,
   "metadata": {},
   "outputs": [],
   "source": [
    "import networkx as nx\n",
    "import matplotlib.pyplot as plt\n",
    "\n",
    "def extract_cycles_and_edges(G: nx.MultiDiGraph) -> tuple[list[tuple], dict[tuple, list[tuple]], list[tuple]]:\n",
    "    cycles = []\n",
    "    for cycle_nodes in nx.simple_cycles(G):\n",
    "        cycles.append(tuple(cycle_nodes))\n",
    "\n",
    "    all_cycle_edges = []\n",
    "    cycle_edges = {}\n",
    "    for cycle_nodes in cycles:\n",
    "        cycle_edges[cycle_nodes] = []\n",
    "        for i in range(len(cycle_nodes)):\n",
    "            u = cycle_nodes[i]\n",
    "            v = cycle_nodes[(i + 1) % len(cycle_nodes)]\n",
    "            for qubit in G.adj[u][v]:\n",
    "                break\n",
    "            cycle_edges[cycle_nodes].append(((u, v, qubit)))\n",
    "            all_cycle_edges.append((u, v, qubit))\n",
    "\n",
    "    G.remove_edges_from(all_cycle_edges)\n",
    "    remaining_edges = [edge for edge in G.edges]\n",
    "\n",
    "    return cycles, cycle_edges, remaining_edges\n",
    "\n",
    "def choose_qubit(graph, space_counts):\n",
    "    for p, space_p in enumerate(space_counts):\n",
    "        print(p, space_p)\n",
    "        if space_p > 0:\n",
    "            edges_in = graph.in_edges(p)\n",
    "            if len(edges_in) == 0:\n",
    "                continue\n",
    "            for edge in edges_in:\n",
    "                break\n",
    "            qubits = graph.get_edge_data(*edge)\n",
    "            for qubit in qubits:\n",
    "                break\n",
    "            graph.remove_edge(edge[0], edge[1], key=qubit)\n",
    "            space_counts[edge[0]] += 1\n",
    "            space_counts[edge[1]] -= 1\n",
    "            return qubit, edge[0], edge[1]\n",
    "    return None, None, None\n",
    "\n",
    "def get_teleportation_order(assignment1: list, assignment2: list,\n",
    "                        num_partitions: int, num_qubits: int) -> list[dict[str, int]]:\n",
    "    graph = nx.MultiDiGraph()\n",
    "    \n",
    "    for p in range(num_partitions):\n",
    "        graph.add_node(p)\n",
    "\n",
    "    for q in range(num_qubits):\n",
    "        p1 = assignment1[q]\n",
    "        p2 = assignment2[q]\n",
    "        if p1 != p2:\n",
    "            graph.add_edge(p1, p2, key=q)\n",
    "\n",
    "    teleportation_order = []\n",
    "    space_counts = space_count(assignment1, qpu_sizes)\n",
    "    while True:\n",
    "        print(f'Space counts: {space_counts}')\n",
    "        qubit, source, destination = choose_qubit(graph, space_counts)\n",
    "        print(f'Qubit {qubit} chosen')\n",
    "        if qubit is None:\n",
    "            break\n",
    "        teleportation_order.append({'qubit': qubit, 'source': source, 'destination': destination})\n",
    "    \n",
    "    return teleportation_order\n",
    "\n",
    "\n",
    "\n",
    "    \n"
   ]
  },
  {
   "cell_type": "code",
   "execution_count": 270,
   "metadata": {},
   "outputs": [
    {
     "name": "stdout",
     "output_type": "stream",
     "text": [
      "[0, 0, 0, 0, 0, 1, 1, 1, 1, 1, 2, 2, 2]\n",
      "[2 1 0 0 0 1 2 1 1 1 2 2 2]\n"
     ]
    },
    {
     "data": {
      "image/png": "[encoded data removed]",
      "text/plain": [
       "<Figure size 640x480 with 1 Axes>"
      ]
     },
     "metadata": {},
     "output_type": "display_data"
    },
    {
     "name": "stdout",
     "output_type": "stream",
     "text": [
      "Space counts: [0, 0, 2]\n",
      "0 0\n",
      "1 0\n",
      "2 2\n",
      "Qubit 0 chosen\n",
      "Space counts: [1, 0, 1]\n",
      "0 1\n",
      "1 0\n",
      "2 1\n",
      "Qubit 6 chosen\n",
      "Space counts: [1, 1, 0]\n",
      "0 1\n",
      "1 1\n",
      "Qubit 1 chosen\n",
      "Space counts: [2, 0, 0]\n",
      "0 2\n",
      "1 0\n",
      "2 0\n",
      "Qubit None chosen\n",
      "[{'qubit': 0, 'source': 0, 'destination': 2}, {'qubit': 6, 'source': 1, 'destination': 2}, {'qubit': 1, 'source': 0, 'destination': 1}]\n"
     ]
    }
   ],
   "source": [
    "print(assignment1)\n",
    "print(assignment2)\n",
    "teleportation_order = get_teleport_cycles(assignment1, assignment2, len(qpu_sizes), num_qubits)\n",
    "\n",
    "print(teleportation_order)"
   ]
  }
 ],
 "metadata": {
  "kernelspec": {
   "display_name": ".venv",
   "language": "python",
   "name": "python3"
  },
  "language_info": {
   "codemirror_mode": {
    "name": "ipython",
    "version": 3
   },
   "file_extension": ".py",
   "mimetype": "text/x-python",
   "name": "python",
   "nbconvert_exporter": "python",
   "pygments_lexer": "ipython3",
   "version": "3.13.1"
  }
 },
 "nbformat": 4,
 "nbformat_minor": 2
}
