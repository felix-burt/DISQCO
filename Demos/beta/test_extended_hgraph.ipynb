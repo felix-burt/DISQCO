{
 "cells": [
  {
   "cell_type": "code",
   "execution_count": 8,
   "id": "4b73286a",
   "metadata": {},
   "outputs": [
    {
     "name": "stdout",
     "output_type": "stream",
     "text": [
      "Number of qubits in circuit 64\n",
      "Circuit depth: 64\n",
      "Number of layers: 66\n"
     ]
    }
   ],
   "source": [
    "from qiskit.circuit.library import QFT, QuantumVolume\n",
    "from disqco.circuits.cp_fraction import cp_fraction, cz_fraction\n",
    "from qiskit import transpile, QuantumCircuit\n",
    "from QASMBench.interface.qiskit import QASMBenchmark\n",
    "from disqco.graphs.quantum_network import QuantumNetwork\n",
    "from disqco.parti.FM.FM_methods import set_initial_partitions\n",
    "import numpy as np\n",
    "\n",
    "num_qubits = 64\n",
    "\n",
    "circuit = cp_fraction(num_qubits, num_qubits, fraction=0.9)\n",
    "\n",
    "# circuit = QuantumVolume(num_qubits, num_qubits)\n",
    "\n",
    "num_partitions = 8\n",
    " # Define the number of partitions or QPUs you will distribute over\n",
    "\n",
    "\n",
    "qpu_size = num_qubits // num_partitions + 1  # Define the number of qubits per QPU. For simplicity, we divide qubits evenly and add one additional space to each for teleportation (an extra space is needed for the teleportation qubit so the algorithmr requires it!)\n",
    "qpu_sizes = [qpu_size] * num_partitions # Store the number of qubits per QPU in a list\n",
    "\n",
    "# Create a quantum network with the specified number of qubits and partitions\n",
    "\n",
    "# If we do not specificy the connectivity, we have all-to-all by default.\n",
    "\n",
    "quantum_network = QuantumNetwork(qpu_sizes)\n",
    "\n",
    "\n",
    "basis_gates = ['u', 'cp']\n",
    "\n",
    "# Transpile the circuit to the basis gates\n",
    "circuit = transpile(circuit, basis_gates=basis_gates)\n",
    "\n",
    "print(f'Number of qubits in circuit {circuit.num_qubits}')\n",
    "print(f'Circuit depth: {circuit.depth()}')\n",
    "\n",
    "depth = circuit.depth()\n",
    "\n",
    "from disqco.graphs.GCP_hypergraph import QuantumCircuitHyperGraph\n",
    "\n",
    "base_graph = QuantumCircuitHyperGraph(circuit, group_gates=False)\n",
    "\n",
    "from disqco.drawing import tikz_drawing\n",
    "\n",
    "\n",
    "if len(base_graph.nodes) < 1000:\n",
    "    %load_ext jupyter_tikz\n",
    "    fig = tikz_drawing.draw_graph_tikz(base_graph, set_initial_partitions(quantum_network, num_qubits, base_graph.depth), qpu_info=qpu_sizes, show_labels=False)\n",
    "    display(fig)"
   ]
  },
  {
   "cell_type": "code",
   "execution_count": null,
   "id": "e225f35c",
   "metadata": {},
   "outputs": [],
   "source": []
  },
  {
   "cell_type": "code",
   "execution_count": null,
   "id": "4e130456",
   "metadata": {},
   "outputs": [],
   "source": []
  },
  {
   "cell_type": "code",
   "execution_count": null,
   "id": "cc858a4c",
   "metadata": {},
   "outputs": [],
   "source": []
  },
  {
   "cell_type": "code",
   "execution_count": null,
   "id": "0b94711e",
   "metadata": {},
   "outputs": [],
   "source": []
  },
  {
   "cell_type": "code",
   "execution_count": 9,
   "id": "e3d4a4fc",
   "metadata": {},
   "outputs": [],
   "source": [
    "from disqco.graphs.GCP_hypergraph_extended import HyperGraph\n",
    "\n",
    "graph = HyperGraph()\n",
    "\n",
    "graph.convert_from_GCP(base_graph)\n"
   ]
  },
  {
   "cell_type": "code",
   "execution_count": 10,
   "id": "6c7fd685",
   "metadata": {},
   "outputs": [],
   "source": [
    "import numpy as np\n",
    "from disqco.parti.FM.FM_methods_ext import set_initial_partitions_extended\n",
    "\n",
    "\n",
    "qubit_assignment, gate_assignment = set_initial_partitions_extended(quantum_network, graph, num_qubits, depth)\n",
    "\n",
    "\n",
    "\n"
   ]
  },
  {
   "cell_type": "code",
   "execution_count": 20,
   "id": "fbf23543",
   "metadata": {},
   "outputs": [],
   "source": []
  },
  {
   "cell_type": "code",
   "execution_count": 21,
   "id": "77c5263b",
   "metadata": {},
   "outputs": [],
   "source": []
  },
  {
   "cell_type": "code",
   "execution_count": null,
   "id": "a28ba7d6",
   "metadata": {},
   "outputs": [],
   "source": []
  },
  {
   "cell_type": "code",
   "execution_count": 5,
   "id": "4e124d9c",
   "metadata": {},
   "outputs": [
    {
     "name": "stdout",
     "output_type": "stream",
     "text": [
      "Initial cost: 1035.0\n",
      "Pass  0: cost = 657.0\n"
     ]
    }
   ],
   "source": [
    "from disqco.parti.FM.FM_main_ext import run_FM\n",
    "\n",
    "cost, best_assignment, cost_trace = run_FM(graph, qubit_assignment, gate_assignment, qpu_sizes, passes=10, max_gain=int(4), limit=len(graph.nodes()), stochastic=False, log=True)\n",
    "\n",
    "print(best_assignment)"
   ]
  },
  {
   "cell_type": "code",
   "execution_count": 5,
   "id": "77e8daca",
   "metadata": {},
   "outputs": [
    {
     "name": "stdout",
     "output_type": "stream",
     "text": [
      "Final cost: 122.0\n"
     ]
    }
   ],
   "source": [
    "from disqco.parti.FM.FM_methods_ext import calculate_full_cost\n",
    "\n",
    "cost = calculate_full_cost(graph, best_assignment[0], best_assignment[1], num_partitions)\n",
    "print(f'Final cost: {cost}')"
   ]
  },
  {
   "cell_type": "code",
   "execution_count": 6,
   "id": "24fd0a4a",
   "metadata": {},
   "outputs": [],
   "source": [
    "# fig = draw_graph_tikz_v2(graph, best_assignment[0], best_assignment[1], qpu_info=qpu_sizes, depth=depth, num_qubits=num_qubits, show_labels=False)\n",
    "\n",
    "# display(fig)"
   ]
  },
  {
   "cell_type": "code",
   "execution_count": 6,
   "id": "ca35cbb9",
   "metadata": {},
   "outputs": [],
   "source": [
    "from disqco.graphs.coarsening.coarsener_ext import HypergraphCoarsener\n",
    "\n",
    "coarsener = HypergraphCoarsener()\n",
    "\n",
    "node_list = [[i for i in range(graph.num_qubits)] for _ in range(graph.depth)]\n",
    "\n",
    "graph_list, mapping_list = coarsener.coarsen_recursive_mapped(graph, node_list)\n",
    "\n",
    "mapping_list = mapping_list[::-1]\n",
    "qubit_assignment, gate_assignment = set_initial_partitions_extended(quantum_network, graph, num_qubits, depth)\n",
    "\n",
    "\n",
    "\n"
   ]
  },
  {
   "cell_type": "code",
   "execution_count": 7,
   "id": "0fd206a7",
   "metadata": {},
   "outputs": [
    {
     "name": "stdout",
     "output_type": "stream",
     "text": [
      "[[7 7 7 ... 7 7 7]\n",
      " [7 7 7 ... 7 7 7]\n",
      " [7 7 7 ... 7 7 7]\n",
      " ...\n",
      " [1 1 1 ... 1 1 1]\n",
      " [1 1 1 ... 1 1 1]\n",
      " [0 0 0 ... 0 0 0]]\n",
      "Initial cost: 2485.0\n",
      "Pass  0: cost = 2164.0\n",
      "Pass  1: cost = 2114.0\n",
      "Pass  2: cost = 2109.0\n",
      "Pass  3: cost = 2106.0\n",
      "Pass  4: cost = 2102.0\n",
      "Pass  5: cost = 2102.0\n",
      "Pass  6: cost = 2102.0\n"
     ]
    },
    {
     "ename": "KeyboardInterrupt",
     "evalue": "",
     "output_type": "error",
     "traceback": [
      "\u001b[0;31m---------------------------------------------------------------------------\u001b[0m",
      "\u001b[0;31mKeyboardInterrupt\u001b[0m                         Traceback (most recent call last)",
      "Cell \u001b[0;32mIn[7], line 8\u001b[0m\n\u001b[1;32m      4\u001b[0m qubit_assignment, gate_assignment \u001b[38;5;241m=\u001b[39m set_initial_partitions_extended(quantum_network, graph, num_qubits, depth)\n\u001b[1;32m      6\u001b[0m \u001b[38;5;28mprint\u001b[39m(qubit_assignment)\n\u001b[0;32m----> 8\u001b[0m min_cost, qubit_assignment, gate_assignment \u001b[38;5;241m=\u001b[39m \u001b[43mpartition_multilevel\u001b[49m\u001b[43m(\u001b[49m\u001b[43mgraph_list\u001b[49m\u001b[43m,\u001b[49m\u001b[43m \u001b[49m\u001b[43mmapping_list\u001b[49m\u001b[43m,\u001b[49m\u001b[43m \u001b[49m\u001b[43mqubit_assignment\u001b[49m\u001b[43m,\u001b[49m\u001b[43m \u001b[49m\u001b[43mgate_assignment\u001b[49m\u001b[43m,\u001b[49m\u001b[43m \u001b[49m\u001b[43mqpu_sizes\u001b[49m\u001b[43m,\u001b[49m\u001b[43m \u001b[49m\u001b[43mnum_partitions\u001b[49m\u001b[43m)\u001b[49m\n\u001b[1;32m      9\u001b[0m \u001b[38;5;28mprint\u001b[39m(qubit_assignment)\n\u001b[1;32m     11\u001b[0m \u001b[38;5;28mprint\u001b[39m(\u001b[38;5;124mf\u001b[39m\u001b[38;5;124m'\u001b[39m\u001b[38;5;124mMin cost: \u001b[39m\u001b[38;5;132;01m{\u001b[39;00mmin_cost\u001b[38;5;132;01m}\u001b[39;00m\u001b[38;5;124m'\u001b[39m)\n",
      "File \u001b[0;32m~/MLQCP_FM/src/disqco/parti/FM/FM_main_ext.py:245\u001b[0m, in \u001b[0;36mpartition_multilevel\u001b[0;34m(graph_list, mapping_list, qubit_assignment, gate_assignment, qpu_sizes, num_partitions)\u001b[0m\n\u001b[1;32m    242\u001b[0m     \u001b[38;5;28;01mreturn\u001b[39;00m max_degree\n\u001b[1;32m    244\u001b[0m max_node_degree \u001b[38;5;241m=\u001b[39m find_max_node_degree(mapping_list[i])\n\u001b[0;32m--> 245\u001b[0m cost, best_assignments, cost_trace \u001b[38;5;241m=\u001b[39m \u001b[43mrun_FM\u001b[49m\u001b[43m(\u001b[49m\u001b[43mgraph\u001b[49m\u001b[43m,\u001b[49m\u001b[43m \u001b[49m\u001b[43mqubit_assignment\u001b[49m\u001b[43m,\u001b[49m\u001b[43m \u001b[49m\u001b[43mgate_assignment\u001b[49m\u001b[43m,\u001b[49m\u001b[43m \u001b[49m\u001b[43mqpu_sizes\u001b[49m\u001b[43m,\u001b[49m\u001b[43m \u001b[49m\u001b[43mpasses\u001b[49m\u001b[38;5;241;43m=\u001b[39;49m\u001b[38;5;241;43m10\u001b[39;49m\u001b[43m,\u001b[49m\u001b[43m \u001b[49m\u001b[43mmax_gain\u001b[49m\u001b[38;5;241;43m=\u001b[39;49m\u001b[38;5;241;43m4\u001b[39;49m\u001b[38;5;241;43m*\u001b[39;49m\u001b[43mmax_node_degree\u001b[49m\u001b[43m,\u001b[49m\u001b[43m \u001b[49m\u001b[43mlimit\u001b[49m\u001b[38;5;241;43m=\u001b[39;49m\u001b[38;5;28;43mlen\u001b[39;49m\u001b[43m(\u001b[49m\u001b[43mgraph\u001b[49m\u001b[38;5;241;43m.\u001b[39;49m\u001b[43mnodes\u001b[49m\u001b[43m(\u001b[49m\u001b[43m)\u001b[49m\u001b[43m)\u001b[49m\u001b[43m,\u001b[49m\u001b[43m \u001b[49m\u001b[43mstochastic\u001b[49m\u001b[38;5;241;43m=\u001b[39;49m\u001b[38;5;28;43;01mFalse\u001b[39;49;00m\u001b[43m,\u001b[49m\u001b[43m \u001b[49m\u001b[43mlog\u001b[49m\u001b[38;5;241;43m=\u001b[39;49m\u001b[38;5;28;43;01mTrue\u001b[39;49;00m\u001b[43m)\u001b[49m\n\u001b[1;32m    247\u001b[0m qubit_assignment \u001b[38;5;241m=\u001b[39m best_assignments[\u001b[38;5;241m0\u001b[39m]\n\u001b[1;32m    249\u001b[0m gate_assignment \u001b[38;5;241m=\u001b[39m best_assignments[\u001b[38;5;241m1\u001b[39m]\n",
      "File \u001b[0;32m~/MLQCP_FM/src/disqco/parti/FM/FM_main_ext.py:181\u001b[0m, in \u001b[0;36mrun_FM\u001b[0;34m(graph, initial_qubit_assignment, initial_gate_assignment, qpu_info, passes, max_gain, limit, stochastic, log, add_initial)\u001b[0m\n\u001b[1;32m    178\u001b[0m current_cost   \u001b[38;5;241m=\u001b[39m calculate_full_cost(graph, current_assign[\u001b[38;5;241m0\u001b[39m], current_assign[\u001b[38;5;241m1\u001b[39m], num_partitions)\n\u001b[1;32m    180\u001b[0m \u001b[38;5;28;01mfor\u001b[39;00m p \u001b[38;5;129;01min\u001b[39;00m \u001b[38;5;28mrange\u001b[39m(passes):\n\u001b[0;32m--> 181\u001b[0m     assigns, gains \u001b[38;5;241m=\u001b[39m \u001b[43mFM_pass\u001b[49m\u001b[43m(\u001b[49m\u001b[43mgraph\u001b[49m\u001b[43m,\u001b[49m\u001b[43m \u001b[49m\u001b[43mmax_gain\u001b[49m\u001b[43m,\u001b[49m\u001b[43m \u001b[49m\u001b[43mcurrent_assign\u001b[49m\u001b[43m[\u001b[49m\u001b[38;5;241;43m0\u001b[39;49m\u001b[43m]\u001b[49m\u001b[38;5;241;43m.\u001b[39;49m\u001b[43mcopy\u001b[49m\u001b[43m(\u001b[49m\u001b[43m)\u001b[49m\u001b[43m,\u001b[49m\u001b[43m \u001b[49m\u001b[43mcurrent_assign\u001b[49m\u001b[43m[\u001b[49m\u001b[38;5;241;43m1\u001b[39;49m\u001b[43m]\u001b[49m\u001b[38;5;241;43m.\u001b[39;49m\u001b[43mcopy\u001b[49m\u001b[43m(\u001b[49m\u001b[43m)\u001b[49m\u001b[43m,\u001b[49m\n\u001b[1;32m    182\u001b[0m \u001b[43m                             \u001b[49m\u001b[43mnum_partitions\u001b[49m\u001b[43m,\u001b[49m\u001b[43m \u001b[49m\u001b[43mqpu_sizes\u001b[49m\u001b[43m,\u001b[49m\u001b[43m     \u001b[49m\u001b[43mlimit\u001b[49m\u001b[43m)\u001b[49m\n\u001b[1;32m    183\u001b[0m     \u001b[38;5;28;01mif\u001b[39;00m stochastic:\n\u001b[1;32m    184\u001b[0m         \u001b[38;5;28mprint\u001b[39m(\u001b[38;5;124mf\u001b[39m\u001b[38;5;124m\"\u001b[39m\u001b[38;5;124mPass \u001b[39m\u001b[38;5;132;01m{\u001b[39;00mp\u001b[38;5;132;01m:\u001b[39;00m\u001b[38;5;124m2d\u001b[39m\u001b[38;5;132;01m}\u001b[39;00m\u001b[38;5;124m: cost = \u001b[39m\u001b[38;5;132;01m{\u001b[39;00mcurrent_cost\u001b[38;5;132;01m}\u001b[39;00m\u001b[38;5;124m\"\u001b[39m)\n",
      "File \u001b[0;32m~/MLQCP_FM/src/disqco/parti/FM/FM_main_ext.py:72\u001b[0m, in \u001b[0;36mFM_pass\u001b[0;34m(graph, max_gain, qubit_assignment, gate_assignment, num_partitions, qpu_sizes, limit, active_nodes)\u001b[0m\n\u001b[1;32m     68\u001b[0m \u001b[38;5;66;03m# --- initial bookkeeping on edges --------------------------------\u001b[39;00m\n\u001b[1;32m     69\u001b[0m \u001b[38;5;66;03m# assign_all_counts_and_configs(graph, assignment, num_partitions)\u001b[39;00m\n\u001b[1;32m     70\u001b[0m locked      \u001b[38;5;241m=\u001b[39m _unlock_all(graph)\n\u001b[0;32m---> 72\u001b[0m gain_dict \u001b[38;5;241m=\u001b[39m \u001b[43mfind_all_gains\u001b[49m\u001b[43m(\u001b[49m\u001b[43mgraph\u001b[49m\u001b[43m,\u001b[49m\u001b[43m \u001b[49m\u001b[43mqubit_assignment\u001b[49m\u001b[43m,\u001b[49m\u001b[43m \u001b[49m\u001b[43mgate_assignment\u001b[49m\u001b[43m,\u001b[49m\u001b[43m \u001b[49m\u001b[43mnum_partitions\u001b[49m\u001b[43m,\u001b[49m\u001b[43m \u001b[49m\u001b[43mlocked\u001b[49m\u001b[43m)\u001b[49m\n\u001b[1;32m     73\u001b[0m \u001b[38;5;66;03m# for action, gain in gain_dict.items():\u001b[39;00m\n\u001b[1;32m     74\u001b[0m \u001b[38;5;66;03m#     print(f'Checking action: {action}, gain: {gain}')\u001b[39;00m\n\u001b[1;32m     75\u001b[0m buckets   \u001b[38;5;241m=\u001b[39m _build_buckets(gain_dict, max_gain)\n",
      "File \u001b[0;32m~/MLQCP_FM/src/disqco/parti/FM/FM_methods_ext.py:179\u001b[0m, in \u001b[0;36mfind_all_gains\u001b[0;34m(graph, qubit_assignment, gate_assignment, num_partitions, locked)\u001b[0m\n\u001b[1;32m    177\u001b[0m     destinations \u001b[38;5;241m=\u001b[39m \u001b[38;5;28mset\u001b[39m(\u001b[38;5;28mrange\u001b[39m(num_partitions)) \u001b[38;5;241m-\u001b[39m {source}\n\u001b[1;32m    178\u001b[0m     \u001b[38;5;28;01mfor\u001b[39;00m i \u001b[38;5;129;01min\u001b[39;00m destinations:\n\u001b[0;32m--> 179\u001b[0m         gain \u001b[38;5;241m=\u001b[39m \u001b[43mfind_gain_raw\u001b[49m\u001b[43m(\u001b[49m\u001b[43mgraph\u001b[49m\u001b[43m,\u001b[49m\u001b[43m \u001b[49m\u001b[43mnode\u001b[49m\u001b[43m,\u001b[49m\u001b[43m \u001b[49m\u001b[43mqubit_assignment\u001b[49m\u001b[43m,\u001b[49m\u001b[43m \u001b[49m\u001b[43mgate_assignment\u001b[49m\u001b[43m,\u001b[49m\u001b[43m \u001b[49m\u001b[43mi\u001b[49m\u001b[43m,\u001b[49m\u001b[43m \u001b[49m\u001b[43mnum_partitions\u001b[49m\u001b[43m)\u001b[49m\n\u001b[1;32m    180\u001b[0m         gain_dict[(node, i)] \u001b[38;5;241m=\u001b[39m gain\n\u001b[1;32m    181\u001b[0m \u001b[38;5;28;01mreturn\u001b[39;00m gain_dict\n",
      "File \u001b[0;32m~/MLQCP_FM/src/disqco/parti/FM/FM_methods_ext.py:157\u001b[0m, in \u001b[0;36mfind_gain_raw\u001b[0;34m(graph, node, qubit_assignment, gate_assignment, destination, num_partitions)\u001b[0m\n\u001b[1;32m    155\u001b[0m \u001b[38;5;28;01mfor\u001b[39;00m edge_key \u001b[38;5;129;01min\u001b[39;00m incident_edges:\n\u001b[1;32m    156\u001b[0m     edge \u001b[38;5;241m=\u001b[39m graph\u001b[38;5;241m.\u001b[39m_hyperedges[edge_key]\n\u001b[0;32m--> 157\u001b[0m     counts \u001b[38;5;241m=\u001b[39m \u001b[43mget_edge_count\u001b[49m\u001b[43m(\u001b[49m\u001b[43mgraph\u001b[49m\u001b[43m,\u001b[49m\u001b[43m \u001b[49m\u001b[43medge\u001b[49m\u001b[43m,\u001b[49m\u001b[43m \u001b[49m\u001b[43mqubit_assignment\u001b[49m\u001b[43m,\u001b[49m\u001b[43m \u001b[49m\u001b[43mgate_assignment\u001b[49m\u001b[43m,\u001b[49m\u001b[43m \u001b[49m\u001b[43mnum_partitions\u001b[49m\u001b[43m)\u001b[49m\n\u001b[1;32m    158\u001b[0m     counts[destination] \u001b[38;5;241m+\u001b[39m\u001b[38;5;241m=\u001b[39m \u001b[38;5;241m1\u001b[39m\n\u001b[1;32m    159\u001b[0m     counts[source] \u001b[38;5;241m-\u001b[39m\u001b[38;5;241m=\u001b[39m \u001b[38;5;241m1\u001b[39m\n",
      "File \u001b[0;32m~/MLQCP_FM/src/disqco/parti/FM/FM_methods_ext.py:68\u001b[0m, in \u001b[0;36mget_edge_count\u001b[0;34m(graph, edge, qubit_assignment, gate_assignment, num_partitions)\u001b[0m\n\u001b[1;32m     66\u001b[0m \u001b[38;5;28;01mfor\u001b[39;00m node \u001b[38;5;129;01min\u001b[39;00m nodes_in_edge:\n\u001b[1;32m     67\u001b[0m     \u001b[38;5;28;01mif\u001b[39;00m \u001b[38;5;28mlen\u001b[39m(node) \u001b[38;5;241m==\u001b[39m \u001b[38;5;241m2\u001b[39m:\n\u001b[0;32m---> 68\u001b[0m         counts[qubit_assignment[node]] \u001b[38;5;241m+\u001b[39m\u001b[38;5;241m=\u001b[39m \u001b[38;5;241m1\u001b[39m\n\u001b[1;32m     69\u001b[0m     \u001b[38;5;28;01melse\u001b[39;00m:\n\u001b[1;32m     70\u001b[0m         counts[gate_assignment[node]] \u001b[38;5;241m+\u001b[39m\u001b[38;5;241m=\u001b[39m \u001b[38;5;241m1\u001b[39m\n",
      "\u001b[0;31mKeyboardInterrupt\u001b[0m: "
     ]
    }
   ],
   "source": [
    "from disqco.parti.FM.FM_main_ext import partition_multilevel\n",
    "\n",
    "\n",
    "qubit_assignment, gate_assignment = set_initial_partitions_extended(quantum_network, graph, num_qubits, depth)\n",
    "\n",
    "print(qubit_assignment)\n",
    "\n",
    "min_cost, qubit_assignment, gate_assignment = partition_multilevel(graph_list, mapping_list, qubit_assignment, gate_assignment, qpu_sizes, num_partitions)\n",
    "print(qubit_assignment)\n",
    "\n",
    "print(f'Min cost: {min_cost}')\n",
    "\n",
    "# coarse_graph = graph_list[-1]\n",
    "\n",
    "# print(f'Qubit assignment: {qubit_assignment}')\n",
    "\n",
    "# qubit_assignment[0][0] = 2\n",
    "\n",
    "# print(f'Qubit assignment: {qubit_assignment}')\n",
    "\n",
    "# new_qubit_assignment = refine_assignment(0, len(graph_list), qubit_assignment, mapping_list)"
   ]
  },
  {
   "cell_type": "code",
   "execution_count": 9,
   "id": "3671d51f",
   "metadata": {},
   "outputs": [
    {
     "name": "stdout",
     "output_type": "stream",
     "text": [
      "Cost: 355.0\n"
     ]
    }
   ],
   "source": [
    "# fig = draw_graph_tikz_v2(graph, qubit_assignment, gate_assignment, qpu_info=qpu_sizes, depth=depth, num_qubits=num_qubits, show_labels=False)\n",
    "\n",
    "# display(fig)\n",
    "# new_qubit_assignment = refine_assignment(0, len(graph_list), qubit_assignment, mapping_list)\n",
    "\n",
    "cost = calculate_full_cost(graph, qubit_assignment, gate_assignment, num_partitions)\n",
    "print(f'Cost: {cost}')"
   ]
  },
  {
   "cell_type": "code",
   "execution_count": 10,
   "id": "efe22057",
   "metadata": {},
   "outputs": [
    {
     "name": "stdout",
     "output_type": "stream",
     "text": [
      "Number of layers: 6\n",
      "Initial cost: 1\n",
      "All passes complete.\n",
      "Final cost: 1\n",
      "\n",
      "=== FM results ===\n",
      "Best cost:        1\n",
      "Best assignment:  [[0 0 1 1]\n",
      " [0 0 1 1]\n",
      " [0 0 1 1]\n",
      " [0 0 1 1]]\n"
     ]
    }
   ],
   "source": [
    "# Example: run the Fiduccia-Mattheyses partitioner\n",
    "from qiskit import QuantumCircuit\n",
    "from disqco.graphs.quantum_network import QuantumNetwork\n",
    "from disqco.parti.FM.fiduccia import FiducciaMattheyses\n",
    "\n",
    "# --------------------------------------------------------------------\n",
    "# 1) Build a toy circuit (replace with your own QuantumCircuit)\n",
    "qc = QuantumCircuit(4)\n",
    "qc.h(0)\n",
    "qc.cx(0, 1)\n",
    "qc.cx(2, 3)\n",
    "qc.barrier()\n",
    "qc.cx(1, 2)\n",
    "\n",
    "# 2) Define a simple quantum network:\n",
    "#    two QPUs that each host two physical qubits\n",
    "qpu_sizes = [2, 2]                    # list or dict is accepted\n",
    "network   = QuantumNetwork(qpu_sizes) # create the connectivity object\n",
    "\n",
    "# 3) Create the FM partitioner\n",
    "partitioner = FiducciaMattheyses(\n",
    "    circuit = qc,\n",
    "    network = network,\n",
    "    initial_assignment = None          # let it build a default seed\n",
    ")\n",
    "\n",
    "# 4) Run the optimiser (single-level)\n",
    "results = partitioner.partition(\n",
    "    passes = 10,     # number of FM passes\n",
    "    log    = True,   # print progress\n",
    "    stochastic = True\n",
    ")\n",
    "\n",
    "# 5) Inspect the outcome\n",
    "print(\"\\n=== FM results ===\")\n",
    "print(\"Best cost:       \", results[\"best_cost\"])\n",
    "print(\"Best assignment: \", results[\"best_assignment\"])"
   ]
  }
 ],
 "metadata": {
  "kernelspec": {
   "display_name": ".venv",
   "language": "python",
   "name": "python3"
  },
  "language_info": {
   "codemirror_mode": {
    "name": "ipython",
    "version": 3
   },
   "file_extension": ".py",
   "mimetype": "text/x-python",
   "name": "python",
   "nbconvert_exporter": "python",
   "pygments_lexer": "ipython3",
   "version": "3.13.1"
  }
 },
 "nbformat": 4,
 "nbformat_minor": 5
}
